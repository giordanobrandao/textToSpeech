{
  "nbformat": 4,
  "nbformat_minor": 0,
  "metadata": {
    "colab": {
      "provenance": []
    },
    "kernelspec": {
      "name": "python3",
      "display_name": "Python 3"
    },
    "language_info": {
      "name": "python"
    }
  },
  "cells": [
    {
      "cell_type": "code",
      "source": [
        "!pip install pyaudio"
      ],
      "metadata": {
        "id": "fJ91hQw-kjfp",
        "colab": {
          "base_uri": "https://localhost:8080/"
        },
        "outputId": "5149c6fc-9ddf-4f4f-9b50-ab5d00142aef"
      },
      "execution_count": 50,
      "outputs": [
        {
          "output_type": "stream",
          "name": "stdout",
          "text": [
            "Requirement already satisfied: pyaudio in /usr/lib/python3/dist-packages (0.2.11)\n"
          ]
        }
      ]
    },
    {
      "cell_type": "code",
      "execution_count": 51,
      "metadata": {
        "id": "Ppl1V0coW75m"
      },
      "outputs": [],
      "source": [
        "import pyttsx3\n",
        "\n",
        "synthesizer = pyttsx3.init()\n",
        "synthesizer.setProperty('voice', \"brazil\")"
      ]
    },
    {
      "cell_type": "code",
      "source": [
        "my_text = input(\"Enter the text: \")"
      ],
      "metadata": {
        "colab": {
          "base_uri": "https://localhost:8080/"
        },
        "id": "n74UnP-3ZN3V",
        "outputId": "bc607815-6708-453e-cad9-c0660e500316"
      },
      "execution_count": 53,
      "outputs": [
        {
          "name": "stdout",
          "output_type": "stream",
          "text": [
            "Enter the text: Este é um texto falado através de um sintetizador\n"
          ]
        }
      ]
    },
    {
      "cell_type": "code",
      "source": [
        "synthesizer.save_to_file(my_text, 'texto.mp3')\n",
        "synthesizer.runAndWait()\n",
        "synthesizer.stop()"
      ],
      "metadata": {
        "id": "g9JbnrDfjwSA"
      },
      "execution_count": null,
      "outputs": []
    }
  ]
}